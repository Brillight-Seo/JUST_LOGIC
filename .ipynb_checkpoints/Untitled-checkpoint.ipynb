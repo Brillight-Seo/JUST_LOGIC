{
 "cells": [
  {
   "cell_type": "code",
   "execution_count": 40,
   "id": "cec2a869",
   "metadata": {},
   "outputs": [],
   "source": [
    "def print_board(board,N):\n",
    "    for i in range(N):\n",
    "        for j in range(N):\n",
    "            if board[i][j]==0:\n",
    "                print('□',end='')\n",
    "            elif board[i][j]==-1:\n",
    "                print('※',end='')\n",
    "            else:\n",
    "                print('■',end='')\n",
    "        print()\n",
    "    print()"
   ]
  },
  {
   "cell_type": "code",
   "execution_count": 41,
   "id": "61d52e71",
   "metadata": {},
   "outputs": [],
   "source": [
    "def roate_board(board,N):\n",
    "    temp_board=[[0 for _ in range(N)] for _ in range(N)]\n",
    "    for i in range(N):\n",
    "        for j in range(N):\n",
    "            temp_board[i][j]=board[j][i]\n",
    "    return temp_board;"
   ]
  },
  {
   "cell_type": "code",
   "execution_count": 52,
   "id": "ffe1d2fb",
   "metadata": {},
   "outputs": [],
   "source": [
    "# 네모로직을 푸는 알고리즘 만들기\n",
    "#\n",
    "\n",
    "\n",
    "\n",
    "len1= 20\n",
    "hint=[ 11 ]\n",
    "board=[[0 for _ in range(len1)] for _ in range(len1) ]\n",
    "rows=[[0],[11],[15],[19],[4,6],[2,3],[8,2],[12],[15],[5,5],[3,2],[6],[10],[4,3],[2,2],[2],[1,2],[4],[2],[0]]\n",
    "cols=[[3],[3,2],[3,3],[3,4],[3,3,3],[3,4,3],[3,3,3],[3,3,3,2],[3,3,2,1,2],[3,3,2,4],[3,3,2,2],[3,3,3],[3,3,3],[3,3,3],[4,3],[3,3],[3,3],[3,1],[4],[3]]\n",
    "\n",
    "for i in range(len(rows)):\n",
    "    board[i]=func1(board[i], len1, rows[i]);\n",
    "    \n",
    "board=roate_board(board,len1);\n",
    "\n",
    "for i in range(len(cols)):\n",
    "    board[i]=func1(board[i], len1, cols[i]);\n",
    "board=roate_board(board,len1);\n"
   ]
  },
  {
   "cell_type": "code",
   "execution_count": 53,
   "id": "9d8faea5",
   "metadata": {},
   "outputs": [
    {
     "name": "stdout",
     "output_type": "stream",
     "text": [
      "※※※※※※※※※※※※※※※※※※※※\n",
      "□□□□□□□□□■■□□□□□□□□□\n",
      "□□□□□■■■■■■■■■■□□□□□\n",
      "□■■■■■■■■■■■■■■■■■■□\n",
      "□□□□□□□□□□□□□□□□□□□□\n",
      "□□□□□□□□□□□□□□□□□□□□\n",
      "□□□□□□□□□□□□□□□□□□□□\n",
      "□□□□□□□□■■■■□□□□□□□□\n",
      "□□□□□■■■■■■■■■■□□□□□\n",
      "□□□□□□□□□□□□□□□□□□□□\n",
      "□□□□□□□□□□□□□□□□□□□□\n",
      "□□□□□□□□□□□□□□□□□□□□\n",
      "□□□□□□□□□□□□□□□□□□□□\n",
      "□□□□□□□□□□□□□□□□□□□□\n",
      "□□□□□□□□□□□□□□□□□□□□\n",
      "□□□□□□□□□□□□□□□□□□□□\n",
      "□□□□□□□□□□□□□□□□□□□□\n",
      "□□□□□□□□□□□□□□□□□□□□\n",
      "□□□□□□□□□□□□□□□□□□□□\n",
      "※※※※※※※※※※※※※※※※※※※※\n",
      "\n"
     ]
    }
   ],
   "source": [
    "\n",
    "\n",
    "print_board(board,len1);\n"
   ]
  },
  {
   "cell_type": "code",
   "execution_count": 51,
   "id": "9ac119b9",
   "metadata": {},
   "outputs": [],
   "source": [
    "import copy\n",
    "\n",
    "\n",
    "def func1(inputted, len1, hint):\n",
    "    temp=copy.deepcopy(inputted)\n",
    "    if len(hint)==1:\n",
    "        if hint[0]==0:\n",
    "            return [-1 for _ in range(len1)]\n",
    "        count=0\n",
    "        for i in range(len1):\n",
    "            if i+hint[0] <=len1:\n",
    "                count+=1\n",
    "                for j in range(i,i++hint[0]):\n",
    "                    temp[j]+=1\n",
    "        ttemp=[0 for _ in range(len1)]\n",
    "        for t in range(len(temp)):\n",
    "            if temp[t] ==count:\n",
    "                ttemp[t]=1;\n",
    "            else: # 기존거 유지하도록 변경\n",
    "                ttemp[t]=inputted[t];\n",
    "        return ttemp;\n",
    "    else:\n",
    "        return temp;\n",
    "            "
   ]
  },
  {
   "cell_type": "code",
   "execution_count": null,
   "id": "12b25bfc",
   "metadata": {},
   "outputs": [],
   "source": [
    "# 여기서 한번 X 표시 하는 작업 필요"
   ]
  },
  {
   "cell_type": "code",
   "execution_count": null,
   "id": "24700df1",
   "metadata": {},
   "outputs": [],
   "source": []
  }
 ],
 "metadata": {
  "kernelspec": {
   "display_name": "Python 3 (ipykernel)",
   "language": "python",
   "name": "python3"
  },
  "language_info": {
   "codemirror_mode": {
    "name": "ipython",
    "version": 3
   },
   "file_extension": ".py",
   "mimetype": "text/x-python",
   "name": "python",
   "nbconvert_exporter": "python",
   "pygments_lexer": "ipython3",
   "version": "3.9.6"
  }
 },
 "nbformat": 4,
 "nbformat_minor": 5
}
